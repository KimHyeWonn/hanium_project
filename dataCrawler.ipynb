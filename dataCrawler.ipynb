{
 "cells": [
  {
   "cell_type": "code",
   "execution_count": 1,
   "metadata": {},
   "outputs": [],
   "source": [
    "from selenium import webdriver\n",
    "from selenium.common.exceptions import NoSuchElementException\n",
    "from selenium.webdriver.chrome.options import Options\n",
    "from selenium.webdriver.common.by import By\n",
    "from selenium.webdriver.support import expected_conditions as EC\n",
    "from selenium.webdriver.support.ui import WebDriverWait"
   ]
  },
  {
   "cell_type": "code",
   "execution_count": 2,
   "metadata": {},
   "outputs": [],
   "source": [
    "class Browser:\n",
    "    def __init__(self, has_screen):\n",
    "        service_args = [\"--ignore-ssl-errors=true\"]\n",
    "        chrome_options = Options()\n",
    "        \n",
    "        # 브라우저 안뜨게 하는 옵션\n",
    "      \"\"\"  \n",
    "        if not has_screen:\n",
    "            chrome_options.add_argument(\"--headless\")\n",
    "        chrome_options.add_argument(\"--start-maximized\")\n",
    "        chrome_options.add_argument(\"--no-sandbox\")\n",
    "       \"\"\"\n",
    "        self.driver = webdriver.Chrome(\n",
    "            executable_path = \"/Users/hyewon/Documents/haniumProject/bin/chromedriver\",\n",
    "            service_args=service_args,\n",
    "            chrome_options = chrome_options,\n",
    "        )\n",
    "        self.driver.implicitly_wait(5)\n",
    "    \n",
    "    def get(self, url):\n",
    "        self.driver.get(url)\n",
    "        \n",
    "    def implicitly_wait(self, t):\n",
    "        self.driver.implicitly_wait(t)\n",
    "        \n",
    "    def find_one(self, css_selector, elem=None, waittime=0):\n",
    "        obj = elem or self.driver\n",
    "\n",
    "        if waittime:\n",
    "            WebDriverWait(obj, waittime).until(\n",
    "                EC.presence_of_element_located((By.CSS_SELECTOR, css_selector))\n",
    "            )\n",
    "\n",
    "        try:\n",
    "            return obj.find_element(By.CSS_SELECTOR, css_selector)\n",
    "        except NoSuchElementException:\n",
    "            return None\n",
    "\n",
    "    def find(self, css_selector, elem=None, waittime=0):\n",
    "        obj = elem or self.driver\n",
    "\n",
    "        if waittime:\n",
    "            WebDriverWait(obj, waittime).until(\n",
    "                EC.presence_of_element_located((By.CSS_SELECTOR, css_selector))\n",
    "            )\n",
    "\n",
    "        try:\n",
    "            return obj.find_elements(By.CSS_SELECTOR, css_selector)\n",
    "        except NoSuchElementException:\n",
    "            return None"
   ]
  },
  {
   "cell_type": "code",
   "execution_count": 3,
   "metadata": {},
   "outputs": [],
   "source": [
    "class Crawler():\n",
    "    URL = \"http://parking.seoul.go.kr/\"\n",
    "    RETRY_LIMIT = 10\n",
    "    \n",
    "    def __init__(self, has_screen=False):\n",
    "        self.browser = Browser(has_screen)\n",
    "    \n",
    "    def get_data(self):\n",
    "        browser = self.browser\n",
    "        browser.get(Crawler.URL)\n",
    "        # 구 선택 박스 \n",
    "        box_select = browser.find_one(\".select_design a\")\n",
    "        box_select.click()\n",
    "        \n",
    "        # 구 선택\n",
    "        gu_select = browser.find(\".select_list li\")\n",
    "        gu_select[1].click()\n",
    "        \n",
    "        # 검색 버튼\n",
    "        search = browser.find_one(\"#parking_search\")\n",
    "        search.click()\n",
    "        browser.implicitly_wait(5)\n",
    "        \n",
    "        # 주차장 선택\n",
    "        parking_select = browser.find(\".tit a\")\n",
    "        parking_select[0].click()"
   ]
  },
  {
   "cell_type": "code",
   "execution_count": 4,
   "metadata": {},
   "outputs": [],
   "source": [
    "cw = Crawler()\n",
    "cw.get_data()"
   ]
  },
  {
   "cell_type": "code",
   "execution_count": null,
   "metadata": {},
   "outputs": [],
   "source": []
  }
 ],
 "metadata": {
  "kernelspec": {
   "display_name": "Python 3",
   "language": "python",
   "name": "python3"
  },
  "language_info": {
   "codemirror_mode": {
    "name": "ipython",
    "version": 3
   },
   "file_extension": ".py",
   "mimetype": "text/x-python",
   "name": "python",
   "nbconvert_exporter": "python",
   "pygments_lexer": "ipython3",
   "version": "3.6.5"
  }
 },
 "nbformat": 4,
 "nbformat_minor": 2
}
